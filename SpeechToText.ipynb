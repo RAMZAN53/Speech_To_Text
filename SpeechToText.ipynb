{
 "cells": [
  {
   "cell_type": "code",
   "execution_count": 4,
   "id": "14ecd2bd-bc2c-41f3-8c60-c451fda81c6b",
   "metadata": {},
   "outputs": [
    {
     "name": "stdout",
     "output_type": "stream",
     "text": [
      "Collecting gtts\n",
      "  Downloading gTTS-2.5.4-py3-none-any.whl.metadata (4.1 kB)\n",
      "Requirement already satisfied: requests<3,>=2.27 in c:\\users\\doctor computers\\appdata\\local\\programs\\python\\python313\\lib\\site-packages (from gtts) (2.32.3)\n",
      "Collecting click<8.2,>=7.1 (from gtts)\n",
      "  Downloading click-8.1.8-py3-none-any.whl.metadata (2.3 kB)\n",
      "Requirement already satisfied: colorama in c:\\users\\doctor computers\\appdata\\local\\programs\\python\\python313\\lib\\site-packages (from click<8.2,>=7.1->gtts) (0.4.6)\n",
      "Requirement already satisfied: charset-normalizer<4,>=2 in c:\\users\\doctor computers\\appdata\\local\\programs\\python\\python313\\lib\\site-packages (from requests<3,>=2.27->gtts) (3.4.1)\n",
      "Requirement already satisfied: idna<4,>=2.5 in c:\\users\\doctor computers\\appdata\\local\\programs\\python\\python313\\lib\\site-packages (from requests<3,>=2.27->gtts) (3.10)\n",
      "Requirement already satisfied: urllib3<3,>=1.21.1 in c:\\users\\doctor computers\\appdata\\local\\programs\\python\\python313\\lib\\site-packages (from requests<3,>=2.27->gtts) (2.3.0)\n",
      "Requirement already satisfied: certifi>=2017.4.17 in c:\\users\\doctor computers\\appdata\\local\\programs\\python\\python313\\lib\\site-packages (from requests<3,>=2.27->gtts) (2025.1.31)\n",
      "Downloading gTTS-2.5.4-py3-none-any.whl (29 kB)\n",
      "Downloading click-8.1.8-py3-none-any.whl (98 kB)\n",
      "Installing collected packages: click, gtts\n",
      "Successfully installed click-8.1.8 gtts-2.5.4\n"
     ]
    },
    {
     "name": "stderr",
     "output_type": "stream",
     "text": [
      "\n",
      "[notice] A new release of pip is available: 24.3.1 -> 25.0.1\n",
      "[notice] To update, run: python.exe -m pip install --upgrade pip\n"
     ]
    }
   ],
   "source": [
    "!pip install gtts"
   ]
  },
  {
   "cell_type": "code",
   "execution_count": 5,
   "id": "9cd0bfc6-b04a-48d3-884d-5fd1d4efae4a",
   "metadata": {},
   "outputs": [],
   "source": [
    "from gtts import gTTS\n",
    "import os"
   ]
  },
  {
   "cell_type": "code",
   "execution_count": 6,
   "id": "f8dea688-6865-4969-a24c-3a3383b93a88",
   "metadata": {},
   "outputs": [],
   "source": [
    "def Text_To_Speech(text, output_file=\"output.mp3\", lang='en', slow=False):\n",
    "    try:\n",
    "        # Create TTS object\n",
    "        tts = gTTS(text=text, lang=lang, slow=slow)\n",
    "        tts.save(output_file)\n",
    "        print(f\"✅ Success! Audio saved as '{output_file}'\")\n",
    "    except Exception as e:\n",
    "        print(f\"❌ Error: {e}\")"
   ]
  },
  {
   "cell_type": "code",
   "execution_count": 9,
   "id": "bba0f7d4-b238-4fd0-bc23-dda6a5ae9a9c",
   "metadata": {},
   "outputs": [
    {
     "name": "stdout",
     "output_type": "stream",
     "text": [
      "=== TEXT TO SPEECH CONVERTER ===\n",
      "(Press Ctrl+C to exit)\n",
      "\n"
     ]
    },
    {
     "name": "stdin",
     "output_type": "stream",
     "text": [
      "Enter text to convert to speech:  I Love you\n"
     ]
    },
    {
     "name": "stdout",
     "output_type": "stream",
     "text": [
      "✅ Success! Audio saved as 'output.mp3'\n",
      "\n",
      "---\n",
      "\n",
      "\n",
      "Exiting...\n"
     ]
    }
   ],
   "source": [
    "if __name__ == \"__main__\":\n",
    "    print(\"=== TEXT TO SPEECH CONVERTER ===\")\n",
    "    print(\"(Press Ctrl+C to exit)\\n\")\n",
    "    \n",
    "    while True:\n",
    "        try:\n",
    "            # Get user input\n",
    "            text = input(\"Enter text to convert to speech: \")\n",
    "            \n",
    "            # Generate and save audio\n",
    "            Text_To_Speech(text)\n",
    "            \n",
    "            print(\"\\n---\\n\")\n",
    "        except KeyboardInterrupt:\n",
    "            print(\"\\nExiting...\")\n",
    "            break"
   ]
  },
  {
   "cell_type": "code",
   "execution_count": null,
   "id": "c2f6201c-b072-4086-b38f-0326b0080f11",
   "metadata": {},
   "outputs": [],
   "source": []
  }
 ],
 "metadata": {
  "kernelspec": {
   "display_name": "Python 3 (ipykernel)",
   "language": "python",
   "name": "python3"
  },
  "language_info": {
   "codemirror_mode": {
    "name": "ipython",
    "version": 3
   },
   "file_extension": ".py",
   "mimetype": "text/x-python",
   "name": "python",
   "nbconvert_exporter": "python",
   "pygments_lexer": "ipython3",
   "version": "3.13.1"
  }
 },
 "nbformat": 4,
 "nbformat_minor": 5
}
